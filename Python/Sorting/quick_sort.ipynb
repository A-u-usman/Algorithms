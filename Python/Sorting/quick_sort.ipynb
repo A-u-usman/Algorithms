{
 "cells": [
  {
   "cell_type": "code",
   "execution_count": 1,
   "metadata": {},
   "outputs": [
    {
     "name": "stdout",
     "output_type": "stream",
     "text": [
      "Time taken to sort  Open is:  1.300009898841381e-06\n",
      "\n",
      "Time taken to sort  High is:  3.00002284348011e-07\n",
      "\n",
      "Time taken to sort  Low is:  2.00001522898674e-07\n",
      "\n",
      "Time taken to sort  Close is:  2.00001522898674e-07\n",
      "\n",
      "Attribute \t time\n",
      "===============================\n",
      "Open \t 1.300009898841381e-06\n",
      "High \t 3.00002284348011e-07\n",
      "Low \t 2.00001522898674e-07\n",
      "Close \t 2.00001522898674e-07\n"
     ]
    }
   ],
   "source": [
    "import pandas as pd\n",
    "import time\n",
    "\n",
    "def quicksort(A, low, high):\n",
    "    if(low<high):\n",
    "        pi = partition(A, low, high)\n",
    "        quicksort(A, low, pi-1)\n",
    "        quicksort(A, pi+1, high)\n",
    "    return A\n",
    "\n",
    "def partition(A, low, high):\n",
    "    pivot = A[high]\n",
    "    i = low-1\n",
    "    for j in range(low, high):\n",
    "        if(A[j]<pivot):\n",
    "            i+=1\n",
    "            A[i], A[j] = A[j], A[i]\n",
    "    A[i+1], A[high] = A[high], A[i+1]\n",
    "    return i+1\n",
    "\n",
    "data= pd.read_csv(\"Stock data.csv\")\n",
    "df = pd.DataFrame(data)\n",
    "l = ['Open','High','Low','Close']\n",
    "T = []\n",
    "for i in range(len(l)):\n",
    "    A=df[l[i]].to_numpy()\n",
    "    low = 0\n",
    "    high = len(A)-1\n",
    "    Start_time = time.perf_counter()\n",
    "    # print(quicksort(A, low, high))\n",
    "    End_time= time.perf_counter()\n",
    "    t = End_time - Start_time\n",
    "    print(\"Time taken to sort \", l[i], \"is: \", t)\n",
    "    T.append(t)\n",
    "    print()\n",
    "\n",
    "print(\"Attribute \\t time\")\n",
    "print(\"===============================\")\n",
    "for i in range(len(l)):\n",
    "    print(l[i],\"\\t\", T[i])\n"
   ]
  },
  {
   "cell_type": "markdown",
   "metadata": {},
   "source": []
  }
 ],
 "metadata": {
  "kernelspec": {
   "display_name": "Python 3.10.6 64-bit",
   "language": "python",
   "name": "python3"
  },
  "language_info": {
   "codemirror_mode": {
    "name": "ipython",
    "version": 3
   },
   "file_extension": ".py",
   "mimetype": "text/x-python",
   "name": "python",
   "nbconvert_exporter": "python",
   "pygments_lexer": "ipython3",
   "version": "3.10.6"
  },
  "orig_nbformat": 4,
  "vscode": {
   "interpreter": {
    "hash": "369f2c481f4da34e4445cda3fffd2e751bd1c4d706f27375911949ba6bb62e1c"
   }
  }
 },
 "nbformat": 4,
 "nbformat_minor": 2
}
