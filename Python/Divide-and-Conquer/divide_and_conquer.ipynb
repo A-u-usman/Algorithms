{
  "cells": [
    {
      "cell_type": "code",
      "execution_count": 6,
      "metadata": {
        "colab": {
          "base_uri": "https://localhost:8080/"
        },
        "id": "MzdHR1u83tsP",
        "outputId": "39294c8c-db81-4783-fb13-7a77bc580b60"
      },
      "outputs": [
        {
          "name": "stdout",
          "output_type": "stream",
          "text": [
            "Linear Approach: Min = 36.18, Max = 59.791917, Time required = 0.00020250000011401426\n",
            "DAC Approach: Min = 36.81, Max = 59.791917, Time required = 0.00042550000011942757\n",
            "\n"
          ]
        }
      ],
      "source": [
        "import random\n",
        "import time\n",
        "import pandas as pd\n",
        "data= pd.read_csv(\"Stock data.csv\")\n",
        "df = pd.DataFrame(data)\n",
        "a=df['High'].to_numpy()\n",
        "n=len(a)\n",
        "def Linear(a, start, end):\n",
        "    Min = Max = a[start]\n",
        "    for i in range(start, end):\n",
        "        if a[i] < Min:\n",
        "            Min = a[i]\n",
        "        if a[i] > Max:\n",
        "            Max = a[i]\n",
        "\n",
        "    return (Min, Max)\n",
        "\n",
        "def DCMaxMin(a, start, end):\n",
        "    if end - start <= 1:\n",
        "        if a[start] > a[end]:\n",
        "            return (a[start], a[end])\n",
        "        else:\n",
        "            return (a[end], a[start])\n",
        "    else:\n",
        "        mid = int((start+end)/2)\n",
        "        LMin, LMax = DCMaxMin(a, int(start), int(mid))\n",
        "        RMin, RMax = DCMaxMin(a, int(mid+1), int(end))\n",
        "        \n",
        "        if LMin < RMin:\n",
        "                min = LMin\n",
        "        else:\n",
        "                min = RMin\n",
        "\n",
        "        if LMax > RMax:\n",
        "                max = LMax\n",
        "        else:\n",
        "                max = RMax\n",
        "\n",
        "        return (min, max)\n",
        "\n",
        "start1 = time.perf_counter()\n",
        "Min1, Max1 = DCMaxMin(a, int(0), int(n-1))\n",
        "end1 = time.perf_counter()\n",
        "start2 = time.perf_counter()\n",
        "Min2, Max2 = Linear(a, 0, n-1)\n",
        "end2 = time.perf_counter()\n",
        "    \n",
        "print(f'Linear Approach: Min = {Min2}, Max = {Max2}, Time required = {end2 - start2}')\n",
        "print(f'DAC Approach: Min = {Min1}, Max = {Max1}, Time required = {end1 - start1}')\n",
        "print()"
      ]
    }
  ],
  "metadata": {
    "colab": {
      "collapsed_sections": [],
      "provenance": []
    },
    "kernelspec": {
      "display_name": "Python 3.10.6 64-bit",
      "language": "python",
      "name": "python3"
    },
    "language_info": {
      "codemirror_mode": {
        "name": "ipython",
        "version": 3
      },
      "file_extension": ".py",
      "mimetype": "text/x-python",
      "name": "python",
      "nbconvert_exporter": "python",
      "pygments_lexer": "ipython3",
      "version": "3.10.8 (tags/v3.10.8:aaaf517, Oct 11 2022, 16:50:30) [MSC v.1933 64 bit (AMD64)]"
    },
    "vscode": {
      "interpreter": {
        "hash": "369f2c481f4da34e4445cda3fffd2e751bd1c4d706f27375911949ba6bb62e1c"
      }
    }
  },
  "nbformat": 4,
  "nbformat_minor": 0
}
